{
 "cells": [
  {
   "cell_type": "markdown",
   "metadata": {},
   "source": [
    "Die Cholesky-Zerlegung bezeichnet in der numerischen Mathematik eine Zerlegung einer symmetrischen positiv definiten Matrix in ein Produkt aus einer unteren Dreiecksmatrix und deren Transponierter.\n"
   ]
  },
  {
   "cell_type": "code",
   "execution_count": 41,
   "metadata": {},
   "outputs": [],
   "source": [
    "import numpy as np\n",
    "import math"
   ]
  },
  {
   "cell_type": "code",
   "execution_count": 42,
   "metadata": {},
   "outputs": [],
   "source": [
    "def cholesky(A):\n",
    "    n=A.shape[0]\n",
    "    L=np.zeros((n,n))\n",
    "    try:\n",
    "        for k in range(n):\n",
    "            L[k,k]=math.sqrt(A[k,k]-np.dot(L[k,:],L[k,:]))\n",
    "            for l in range(k+1,n):\n",
    "                L[l,k]=(A[l,k]-np.dot(L[l,:],L[k,:]))/L[k,k]\n",
    "    except:\n",
    "        print(\"nicht definit\")\n",
    "    return L"
   ]
  },
  {
   "cell_type": "code",
   "execution_count": 43,
   "metadata": {},
   "outputs": [
    {
     "data": {
      "text/plain": [
       "array([[ 1.,  0.,  0.,  0.],\n",
       "       [-1.,  1.,  0.,  0.],\n",
       "       [-1., -1.,  1.,  0.],\n",
       "       [-1., -1., -1.,  1.]])"
      ]
     },
     "execution_count": 43,
     "metadata": {},
     "output_type": "execute_result"
    }
   ],
   "source": [
    "a = np.array([[1, -1, -1, -1],[-1, 2, 0, 0], [-1, 0, 3, 1], [-1,0,1,4]])\n",
    "cholesky(a)"
   ]
  },
  {
   "cell_type": "code",
   "execution_count": null,
   "metadata": {},
   "outputs": [],
   "source": []
  }
 ],
 "metadata": {
  "kernelspec": {
   "display_name": "Python 3",
   "language": "python",
   "name": "python3"
  },
  "language_info": {
   "codemirror_mode": {
    "name": "ipython",
    "version": 3
   },
   "file_extension": ".py",
   "mimetype": "text/x-python",
   "name": "python",
   "nbconvert_exporter": "python",
   "pygments_lexer": "ipython3",
   "version": "3.6.5"
  }
 },
 "nbformat": 4,
 "nbformat_minor": 2
}
